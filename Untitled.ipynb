{
 "cells": [
  {
   "cell_type": "code",
   "execution_count": 6,
   "id": "759e996e-4dd2-4ab2-9fba-576d8fc69fa3",
   "metadata": {},
   "outputs": [],
   "source": [
    "import pandas as pd\n",
    "import sys"
   ]
  },
  {
   "cell_type": "code",
   "execution_count": 3,
   "id": "e97cd471-55c5-4f55-b6d1-36dab9dea761",
   "metadata": {},
   "outputs": [],
   "source": [
    "df = pd.read_csv('data/train.csv')"
   ]
  },
  {
   "cell_type": "code",
   "execution_count": 4,
   "id": "be5a1b0f-4e11-4a4f-b231-fcaa6ba3a8b0",
   "metadata": {},
   "outputs": [],
   "source": [
    "df = df[['question_text', 'target']]"
   ]
  },
  {
   "cell_type": "code",
   "execution_count": null,
   "id": "58d2039d-8978-4443-844f-74b3dc9f0a3d",
   "metadata": {},
   "outputs": [],
   "source": [
    "correct_targets = df['target'].isin([0, 1])\n",
    "df = df[correct_targets]"
   ]
  },
  {
   "cell_type": "code",
   "execution_count": 5,
   "id": "1aeee5ce-87f6-4fc1-9b67-39c0fe3f867e",
   "metadata": {},
   "outputs": [
    {
     "data": {
      "text/plain": [
       "1306122"
      ]
     },
     "execution_count": 5,
     "metadata": {},
     "output_type": "execute_result"
    }
   ],
   "source": [
    "len(df)"
   ]
  },
  {
   "cell_type": "code",
   "execution_count": 9,
   "id": "01761349-e95c-4ec7-b8d5-ac7255dcf747",
   "metadata": {},
   "outputs": [
    {
     "name": "stdout",
     "output_type": "stream",
     "text": [
      "0.180593248 GB\n"
     ]
    }
   ],
   "source": [
    "print(sys.getsizeof(df)/1000000000, \"GB\")"
   ]
  },
  {
   "cell_type": "code",
   "execution_count": 12,
   "id": "9b003583-6969-41dd-83cf-aa93e22b084b",
   "metadata": {},
   "outputs": [],
   "source": [
    "df = pd.read_csv('data/train_cleaned.csv')"
   ]
  },
  {
   "cell_type": "code",
   "execution_count": 13,
   "id": "fc3f7f6a-0e69-4455-a841-889742c8b707",
   "metadata": {},
   "outputs": [],
   "source": [
    "lens = df['question_text'].apply(len)"
   ]
  },
  {
   "cell_type": "code",
   "execution_count": 15,
   "id": "2f47cad8-b6b2-4e80-8524-b3ed7c79f883",
   "metadata": {},
   "outputs": [
    {
     "data": {
      "text/plain": [
       "Series([], Name: question_text, dtype: int64)"
      ]
     },
     "execution_count": 15,
     "metadata": {},
     "output_type": "execute_result"
    }
   ],
   "source": [
    "lens[lens<10]"
   ]
  },
  {
   "cell_type": "code",
   "execution_count": 16,
   "id": "cec6c0e8-bf62-42c2-8674-a94a928f4c46",
   "metadata": {},
   "outputs": [],
   "source": [
    "x = pd.DataFrame(columns=['question_text','target'])"
   ]
  },
  {
   "cell_type": "code",
   "execution_count": 17,
   "id": "0638d3fb-2c17-4bab-8113-0fb8bc907703",
   "metadata": {},
   "outputs": [
    {
     "data": {
      "text/html": [
       "<div>\n",
       "<style scoped>\n",
       "    .dataframe tbody tr th:only-of-type {\n",
       "        vertical-align: middle;\n",
       "    }\n",
       "\n",
       "    .dataframe tbody tr th {\n",
       "        vertical-align: top;\n",
       "    }\n",
       "\n",
       "    .dataframe thead th {\n",
       "        text-align: right;\n",
       "    }\n",
       "</style>\n",
       "<table border=\"1\" class=\"dataframe\">\n",
       "  <thead>\n",
       "    <tr style=\"text-align: right;\">\n",
       "      <th></th>\n",
       "      <th>question_text</th>\n",
       "      <th>target</th>\n",
       "    </tr>\n",
       "  </thead>\n",
       "  <tbody>\n",
       "  </tbody>\n",
       "</table>\n",
       "</div>"
      ],
      "text/plain": [
       "Empty DataFrame\n",
       "Columns: [question_text, target]\n",
       "Index: []"
      ]
     },
     "execution_count": 17,
     "metadata": {},
     "output_type": "execute_result"
    }
   ],
   "source": [
    "x"
   ]
  },
  {
   "cell_type": "code",
   "execution_count": 18,
   "id": "3c7abfee-d059-408e-8dcb-a035a2c52abe",
   "metadata": {},
   "outputs": [],
   "source": [
    "x.to_csv('data/pokus.csv', index=False)"
   ]
  },
  {
   "cell_type": "code",
   "execution_count": null,
   "id": "2934ad2b-c30a-4396-8c06-1e34d41056fb",
   "metadata": {},
   "outputs": [],
   "source": []
  }
 ],
 "metadata": {
  "kernelspec": {
   "display_name": "Python 3 (ipykernel)",
   "language": "python",
   "name": "python3"
  },
  "language_info": {
   "codemirror_mode": {
    "name": "ipython",
    "version": 3
   },
   "file_extension": ".py",
   "mimetype": "text/x-python",
   "name": "python",
   "nbconvert_exporter": "python",
   "pygments_lexer": "ipython3",
   "version": "3.10.6"
  }
 },
 "nbformat": 4,
 "nbformat_minor": 5
}
