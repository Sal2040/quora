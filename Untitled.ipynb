{
 "cells": [
  {
   "cell_type": "code",
   "execution_count": 2,
   "id": "759e996e-4dd2-4ab2-9fba-576d8fc69fa3",
   "metadata": {},
   "outputs": [],
   "source": [
    "import pandas as pd\n",
    "import sys\n",
    "from sklearn.model_selection import train_test_split"
   ]
  },
  {
   "cell_type": "code",
   "execution_count": 50,
   "id": "e97cd471-55c5-4f55-b6d1-36dab9dea761",
   "metadata": {},
   "outputs": [],
   "source": [
    "df = pd.read_csv('data/train.csv')"
   ]
  },
  {
   "cell_type": "code",
   "execution_count": 6,
   "id": "be5a1b0f-4e11-4a4f-b231-fcaa6ba3a8b0",
   "metadata": {},
   "outputs": [],
   "source": [
    "df = df[['question_text', 'target']]"
   ]
  },
  {
   "cell_type": "code",
   "execution_count": 7,
   "id": "58d2039d-8978-4443-844f-74b3dc9f0a3d",
   "metadata": {},
   "outputs": [],
   "source": [
    "correct_targets = df['target'].isin([0, 1])\n",
    "df = df[correct_targets]"
   ]
  },
  {
   "cell_type": "code",
   "execution_count": 5,
   "id": "1aeee5ce-87f6-4fc1-9b67-39c0fe3f867e",
   "metadata": {},
   "outputs": [
    {
     "data": {
      "text/plain": [
       "1306122"
      ]
     },
     "execution_count": 5,
     "metadata": {},
     "output_type": "execute_result"
    }
   ],
   "source": [
    "len(df)"
   ]
  },
  {
   "cell_type": "code",
   "execution_count": 9,
   "id": "01761349-e95c-4ec7-b8d5-ac7255dcf747",
   "metadata": {},
   "outputs": [
    {
     "name": "stdout",
     "output_type": "stream",
     "text": [
      "0.180593248 GB\n"
     ]
    }
   ],
   "source": [
    "print(sys.getsizeof(df)/1000000000, \"GB\")"
   ]
  },
  {
   "cell_type": "code",
   "execution_count": 12,
   "id": "9b003583-6969-41dd-83cf-aa93e22b084b",
   "metadata": {},
   "outputs": [],
   "source": [
    "df = pd.read_csv('data/train_cleaned.csv')"
   ]
  },
  {
   "cell_type": "code",
   "execution_count": 13,
   "id": "fc3f7f6a-0e69-4455-a841-889742c8b707",
   "metadata": {},
   "outputs": [],
   "source": [
    "lens = df['question_text'].apply(len)"
   ]
  },
  {
   "cell_type": "code",
   "execution_count": 15,
   "id": "2f47cad8-b6b2-4e80-8524-b3ed7c79f883",
   "metadata": {},
   "outputs": [
    {
     "data": {
      "text/plain": [
       "Series([], Name: question_text, dtype: int64)"
      ]
     },
     "execution_count": 15,
     "metadata": {},
     "output_type": "execute_result"
    }
   ],
   "source": [
    "lens[lens<10]"
   ]
  },
  {
   "cell_type": "code",
   "execution_count": 16,
   "id": "cec6c0e8-bf62-42c2-8674-a94a928f4c46",
   "metadata": {},
   "outputs": [],
   "source": [
    "x = pd.DataFrame(columns=['question_text','target'])"
   ]
  },
  {
   "cell_type": "code",
   "execution_count": 17,
   "id": "0638d3fb-2c17-4bab-8113-0fb8bc907703",
   "metadata": {},
   "outputs": [
    {
     "data": {
      "text/html": [
       "<div>\n",
       "<style scoped>\n",
       "    .dataframe tbody tr th:only-of-type {\n",
       "        vertical-align: middle;\n",
       "    }\n",
       "\n",
       "    .dataframe tbody tr th {\n",
       "        vertical-align: top;\n",
       "    }\n",
       "\n",
       "    .dataframe thead th {\n",
       "        text-align: right;\n",
       "    }\n",
       "</style>\n",
       "<table border=\"1\" class=\"dataframe\">\n",
       "  <thead>\n",
       "    <tr style=\"text-align: right;\">\n",
       "      <th></th>\n",
       "      <th>question_text</th>\n",
       "      <th>target</th>\n",
       "    </tr>\n",
       "  </thead>\n",
       "  <tbody>\n",
       "  </tbody>\n",
       "</table>\n",
       "</div>"
      ],
      "text/plain": [
       "Empty DataFrame\n",
       "Columns: [question_text, target]\n",
       "Index: []"
      ]
     },
     "execution_count": 17,
     "metadata": {},
     "output_type": "execute_result"
    }
   ],
   "source": [
    "x"
   ]
  },
  {
   "cell_type": "code",
   "execution_count": 18,
   "id": "3c7abfee-d059-408e-8dcb-a035a2c52abe",
   "metadata": {},
   "outputs": [],
   "source": [
    "x.to_csv('data/pokus.csv', index=False)"
   ]
  },
  {
   "cell_type": "code",
   "execution_count": 4,
   "id": "2934ad2b-c30a-4396-8c06-1e34d41056fb",
   "metadata": {},
   "outputs": [
    {
     "data": {
      "text/html": [
       "<div>\n",
       "<style scoped>\n",
       "    .dataframe tbody tr th:only-of-type {\n",
       "        vertical-align: middle;\n",
       "    }\n",
       "\n",
       "    .dataframe tbody tr th {\n",
       "        vertical-align: top;\n",
       "    }\n",
       "\n",
       "    .dataframe thead th {\n",
       "        text-align: right;\n",
       "    }\n",
       "</style>\n",
       "<table border=\"1\" class=\"dataframe\">\n",
       "  <thead>\n",
       "    <tr style=\"text-align: right;\">\n",
       "      <th></th>\n",
       "      <th>0</th>\n",
       "    </tr>\n",
       "  </thead>\n",
       "  <tbody>\n",
       "    <tr>\n",
       "      <th>0</th>\n",
       "      <td>Why is there always 6 months before we can sta...</td>\n",
       "    </tr>\n",
       "    <tr>\n",
       "      <th>1</th>\n",
       "      <td>What response should a boy give if a girl slap...</td>\n",
       "    </tr>\n",
       "    <tr>\n",
       "      <th>2</th>\n",
       "      <td>How in Sam HELL did the richest, most isolated...</td>\n",
       "    </tr>\n",
       "    <tr>\n",
       "      <th>3</th>\n",
       "      <td>What is dual listed stock?</td>\n",
       "    </tr>\n",
       "    <tr>\n",
       "      <th>4</th>\n",
       "      <td>Why are there so many pharmaceutical commercia...</td>\n",
       "    </tr>\n",
       "  </tbody>\n",
       "</table>\n",
       "</div>"
      ],
      "text/plain": [
       "                                                   0\n",
       "0  Why is there always 6 months before we can sta...\n",
       "1  What response should a boy give if a girl slap...\n",
       "2  How in Sam HELL did the richest, most isolated...\n",
       "3                         What is dual listed stock?\n",
       "4  Why are there so many pharmaceutical commercia..."
      ]
     },
     "execution_count": 4,
     "metadata": {},
     "output_type": "execute_result"
    }
   ],
   "source": [
    "df.head()"
   ]
  },
  {
   "cell_type": "code",
   "execution_count": 8,
   "id": "fe658bc2-cc60-42b2-80f0-6184d722d4b5",
   "metadata": {},
   "outputs": [],
   "source": [
    "X = df['question_text']\n",
    "y = df['target']\n",
    "train_X, test_X, train_y, test_y = train_test_split(X, y, test_size=0.3, random_state=23, shuffle=True, stratify=y)"
   ]
  },
  {
   "cell_type": "code",
   "execution_count": 29,
   "id": "8b5e42c9-911b-4963-8f9f-723d16682f42",
   "metadata": {},
   "outputs": [
    {
     "data": {
      "text/plain": [
       "1187285                          Are dress clothes outdated?\n",
       "1276248                  Which is the best 1.5 ton split AC?\n",
       "833818     What modern fantasy series doesn't just copy w...\n",
       "352757     How novel or original was Sujan Stevens' \"Illi...\n",
       "281920     How do you decide what Facebook friends reques...\n",
       "                                 ...                        \n",
       "8427       Is it true that average blockchain projects di...\n",
       "1275536    Has anyone tried to file a complaint with SDPD...\n",
       "58860      Which is the best Wardrobe Accessories in Bang...\n",
       "564286            What is the most successful thing you buy?\n",
       "620865        What are the requirements to perform jousting?\n",
       "Name: question_text, Length: 914285, dtype: object"
      ]
     },
     "execution_count": 29,
     "metadata": {},
     "output_type": "execute_result"
    }
   ],
   "source": [
    "train_X"
   ]
  },
  {
   "cell_type": "code",
   "execution_count": 30,
   "id": "4a05657e-2a25-47cf-91eb-5924840b30bd",
   "metadata": {},
   "outputs": [
    {
     "data": {
      "text/plain": [
       "1187285    0\n",
       "1276248    0\n",
       "833818     0\n",
       "352757     0\n",
       "281920     0\n",
       "          ..\n",
       "8427       0\n",
       "1275536    0\n",
       "58860      0\n",
       "564286     0\n",
       "620865     0\n",
       "Name: target, Length: 914285, dtype: int64"
      ]
     },
     "execution_count": 30,
     "metadata": {},
     "output_type": "execute_result"
    }
   ],
   "source": [
    "train_y"
   ]
  },
  {
   "cell_type": "code",
   "execution_count": 32,
   "id": "d637a414-d5e7-443d-9b92-337aa7490f09",
   "metadata": {},
   "outputs": [
    {
     "data": {
      "text/html": [
       "<div>\n",
       "<style scoped>\n",
       "    .dataframe tbody tr th:only-of-type {\n",
       "        vertical-align: middle;\n",
       "    }\n",
       "\n",
       "    .dataframe tbody tr th {\n",
       "        vertical-align: top;\n",
       "    }\n",
       "\n",
       "    .dataframe thead th {\n",
       "        text-align: right;\n",
       "    }\n",
       "</style>\n",
       "<table border=\"1\" class=\"dataframe\">\n",
       "  <thead>\n",
       "    <tr style=\"text-align: right;\">\n",
       "      <th></th>\n",
       "      <th>question_text</th>\n",
       "      <th>target</th>\n",
       "    </tr>\n",
       "  </thead>\n",
       "  <tbody>\n",
       "    <tr>\n",
       "      <th>1187285</th>\n",
       "      <td>Are dress clothes outdated?</td>\n",
       "      <td>0</td>\n",
       "    </tr>\n",
       "    <tr>\n",
       "      <th>1276248</th>\n",
       "      <td>Which is the best 1.5 ton split AC?</td>\n",
       "      <td>0</td>\n",
       "    </tr>\n",
       "    <tr>\n",
       "      <th>833818</th>\n",
       "      <td>What modern fantasy series doesn't just copy w...</td>\n",
       "      <td>0</td>\n",
       "    </tr>\n",
       "    <tr>\n",
       "      <th>352757</th>\n",
       "      <td>How novel or original was Sujan Stevens' \"Illi...</td>\n",
       "      <td>0</td>\n",
       "    </tr>\n",
       "    <tr>\n",
       "      <th>281920</th>\n",
       "      <td>How do you decide what Facebook friends reques...</td>\n",
       "      <td>0</td>\n",
       "    </tr>\n",
       "    <tr>\n",
       "      <th>...</th>\n",
       "      <td>...</td>\n",
       "      <td>...</td>\n",
       "    </tr>\n",
       "    <tr>\n",
       "      <th>8427</th>\n",
       "      <td>Is it true that average blockchain projects di...</td>\n",
       "      <td>0</td>\n",
       "    </tr>\n",
       "    <tr>\n",
       "      <th>1275536</th>\n",
       "      <td>Has anyone tried to file a complaint with SDPD...</td>\n",
       "      <td>0</td>\n",
       "    </tr>\n",
       "    <tr>\n",
       "      <th>58860</th>\n",
       "      <td>Which is the best Wardrobe Accessories in Bang...</td>\n",
       "      <td>0</td>\n",
       "    </tr>\n",
       "    <tr>\n",
       "      <th>564286</th>\n",
       "      <td>What is the most successful thing you buy?</td>\n",
       "      <td>0</td>\n",
       "    </tr>\n",
       "    <tr>\n",
       "      <th>620865</th>\n",
       "      <td>What are the requirements to perform jousting?</td>\n",
       "      <td>0</td>\n",
       "    </tr>\n",
       "  </tbody>\n",
       "</table>\n",
       "<p>914285 rows × 2 columns</p>\n",
       "</div>"
      ],
      "text/plain": [
       "                                             question_text  target\n",
       "1187285                        Are dress clothes outdated?       0\n",
       "1276248                Which is the best 1.5 ton split AC?       0\n",
       "833818   What modern fantasy series doesn't just copy w...       0\n",
       "352757   How novel or original was Sujan Stevens' \"Illi...       0\n",
       "281920   How do you decide what Facebook friends reques...       0\n",
       "...                                                    ...     ...\n",
       "8427     Is it true that average blockchain projects di...       0\n",
       "1275536  Has anyone tried to file a complaint with SDPD...       0\n",
       "58860    Which is the best Wardrobe Accessories in Bang...       0\n",
       "564286          What is the most successful thing you buy?       0\n",
       "620865      What are the requirements to perform jousting?       0\n",
       "\n",
       "[914285 rows x 2 columns]"
      ]
     },
     "execution_count": 32,
     "metadata": {},
     "output_type": "execute_result"
    }
   ],
   "source": [
    "pd.concat([train_X, train_y], axis=1)"
   ]
  },
  {
   "cell_type": "code",
   "execution_count": 33,
   "id": "6a1c7229-c779-4bfe-8ff2-7b406ba9b985",
   "metadata": {},
   "outputs": [
    {
     "data": {
      "text/plain": [
       "914285"
      ]
     },
     "execution_count": 33,
     "metadata": {},
     "output_type": "execute_result"
    }
   ],
   "source": [
    "len(train_X)"
   ]
  },
  {
   "cell_type": "code",
   "execution_count": 40,
   "id": "0b461f6a-dda8-42dc-b413-e050fc0bd7b8",
   "metadata": {},
   "outputs": [],
   "source": [
    "df_train = pd.read_csv('data/train_train.csv')\n",
    "df_test = pd.read_csv('data/train_validation.csv')"
   ]
  },
  {
   "cell_type": "code",
   "execution_count": 48,
   "id": "90658464-8208-496c-914d-9070aa6baaea",
   "metadata": {},
   "outputs": [
    {
     "data": {
      "text/plain": [
       "0.061854880784539344"
      ]
     },
     "execution_count": 48,
     "metadata": {},
     "output_type": "execute_result"
    }
   ],
   "source": [
    "df_train['target'].sum()/len(df_train)"
   ]
  },
  {
   "cell_type": "code",
   "execution_count": 49,
   "id": "e1da8834-a1b0-4da5-930d-ca31ba380a64",
   "metadata": {},
   "outputs": [
    {
     "data": {
      "text/plain": [
       "0.061855906898399815"
      ]
     },
     "execution_count": 49,
     "metadata": {},
     "output_type": "execute_result"
    }
   ],
   "source": [
    "df_test['target'].sum()/len(df_test)"
   ]
  },
  {
   "cell_type": "code",
   "execution_count": 52,
   "id": "caa3a3d3-08b2-42cb-a3d3-f9b5acd4c883",
   "metadata": {},
   "outputs": [
    {
     "data": {
      "text/plain": [
       "0.06187017751787352"
      ]
     },
     "execution_count": 52,
     "metadata": {},
     "output_type": "execute_result"
    }
   ],
   "source": [
    "df['target'].sum()/len(df)"
   ]
  },
  {
   "cell_type": "code",
   "execution_count": 54,
   "id": "ff83d3b9-2d69-4e91-adf8-aabd6dea4c37",
   "metadata": {},
   "outputs": [],
   "source": [
    "x = df.groupby('target').size()"
   ]
  },
  {
   "cell_type": "code",
   "execution_count": 57,
   "id": "82651f1d-f517-48e2-a9c5-7fbbb7f3bfb9",
   "metadata": {},
   "outputs": [
    {
     "data": {
      "text/plain": [
       "0.06595054973753624"
      ]
     },
     "execution_count": 57,
     "metadata": {},
     "output_type": "execute_result"
    }
   ],
   "source": [
    "x[1]/x[0]"
   ]
  },
  {
   "cell_type": "code",
   "execution_count": 3,
   "id": "9f7a8a14-855d-4109-b165-46b073e3490c",
   "metadata": {},
   "outputs": [],
   "source": [
    "x = pd.read_csv('data/train_validation.csv')"
   ]
  },
  {
   "cell_type": "code",
   "execution_count": 5,
   "id": "b9048bc8-4c12-4264-9824-0e6cce3bf2a2",
   "metadata": {},
   "outputs": [],
   "source": [
    "x = x.sample(30)"
   ]
  },
  {
   "cell_type": "code",
   "execution_count": 7,
   "id": "b9fc4621-e66e-41a3-99a7-4560fc7290b2",
   "metadata": {},
   "outputs": [],
   "source": [
    "x.to_csv('data/train_validation_small.csv')"
   ]
  },
  {
   "cell_type": "code",
   "execution_count": null,
   "id": "4225b5f9-162f-4998-a3ed-0de34c865283",
   "metadata": {},
   "outputs": [],
   "source": []
  }
 ],
 "metadata": {
  "kernelspec": {
   "display_name": "Python 3 (ipykernel)",
   "language": "python",
   "name": "python3"
  },
  "language_info": {
   "codemirror_mode": {
    "name": "ipython",
    "version": 3
   },
   "file_extension": ".py",
   "mimetype": "text/x-python",
   "name": "python",
   "nbconvert_exporter": "python",
   "pygments_lexer": "ipython3",
   "version": "3.10.12"
  }
 },
 "nbformat": 4,
 "nbformat_minor": 5
}
